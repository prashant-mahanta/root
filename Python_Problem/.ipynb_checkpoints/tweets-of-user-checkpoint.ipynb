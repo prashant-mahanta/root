{
 "cells": [
  {
   "cell_type": "code",
   "execution_count": 181,
   "metadata": {},
   "outputs": [],
   "source": [
    "import tweepy\n",
    "import json"
   ]
  },
  {
   "cell_type": "code",
   "execution_count": 182,
   "metadata": {},
   "outputs": [],
   "source": [
    "consumer_key = \"\"\n",
    "consumer_secret = \"\""
   ]
  },
  {
   "cell_type": "code",
   "execution_count": 183,
   "metadata": {},
   "outputs": [],
   "source": [
    "access_key = \"\"\n",
    "access_secret = \"\""
   ]
  },
  {
   "cell_type": "code",
   "execution_count": 184,
   "metadata": {},
   "outputs": [],
   "source": [
    "auth = tweepy.OAuthHandler(consumer_key, consumer_secret)"
   ]
  },
  {
   "cell_type": "code",
   "execution_count": 185,
   "metadata": {},
   "outputs": [],
   "source": [
    "auth.set_access_token(access_key, access_secret)\n",
    "api = tweepy.API(auth)"
   ]
  },
  {
   "cell_type": "code",
   "execution_count": 186,
   "metadata": {},
   "outputs": [],
   "source": [
    "number_of_tweets=200\n",
    "user_name = \"midasIIITD\""
   ]
  },
  {
   "cell_type": "code",
   "execution_count": 187,
   "metadata": {},
   "outputs": [],
   "source": [
    "item = api.get_user(user_name)"
   ]
  },
  {
   "cell_type": "code",
   "execution_count": 188,
   "metadata": {},
   "outputs": [
    {
     "name": "stdout",
     "output_type": "stream",
     "text": [
      "name: MIDAS IIITD\n",
      "screen_name: midasIIITD\n",
      "description: MIDAS is a group of researchers at IIIT-Delhi who study, analyze, and build different multimedia systems for society leveraging multimodal information.\n",
      "statuses_count: 329\n",
      "friends_count: 42\n",
      "followers_count: 246\n"
     ]
    }
   ],
   "source": [
    "print(\"name: \" + item.name)\n",
    "print(\"screen_name: \" + item.screen_name)\n",
    "print(\"description: \" + item.description)\n",
    "print(\"statuses_count: \" + str(item.statuses_count))\n",
    "print(\"friends_count: \" + str(item.friends_count))\n",
    "print(\"followers_count: \" + str(item.followers_count))"
   ]
  },
  {
   "cell_type": "code",
   "execution_count": 190,
   "metadata": {},
   "outputs": [],
   "source": [
    "tweets = {}\n",
    "tweets[user_name] = []\n",
    "fp = open(\"python-task.json\",\"w+\")\n",
    "for status in tweepy.Cursor(api.user_timeline, id = user_name).items():\n",
    "    tweet = {}\n",
    "    try:\n",
    "        favorite = status.retweeted_status.favorite_count\n",
    "    except AttributeError:\n",
    "        text = status.favorite_count\n",
    "    \n",
    "    try:\n",
    "        images_count = len([medium['type'] == 'photo' for medium in status.entities['media']]) \n",
    "    except:\n",
    "        images_count = None\n",
    "        \n",
    "    tweet[\"text\"] = str(status.text)\n",
    "    tweet[\"created_at\"] = status.created_at.strftime(\"%c\")\n",
    "    tweet[\"favorite_count\"] = favorite\n",
    "    tweet[\"retweet_count\"] = status.retweet_count\n",
    "    tweet[\"images_count\"] = images_count\n",
    "    \n",
    "    tweets[user_name].append(tweet)\n",
    "    \n",
    "fp.write(json.dumps(tweets))\n",
    "fp.close()"
   ]
  },
  {
   "cell_type": "code",
   "execution_count": null,
   "metadata": {},
   "outputs": [],
   "source": []
  }
 ],
 "metadata": {
  "kernelspec": {
   "display_name": "Python 3",
   "language": "python",
   "name": "python3"
  },
  "language_info": {
   "codemirror_mode": {
    "name": "ipython",
    "version": 3
   },
   "file_extension": ".py",
   "mimetype": "text/x-python",
   "name": "python",
   "nbconvert_exporter": "python",
   "pygments_lexer": "ipython3",
   "version": "3.6.7"
  }
 },
 "nbformat": 4,
 "nbformat_minor": 2
}
